{
 "cells": [
  {
   "cell_type": "markdown",
   "metadata": {
    "toc": "true"
   },
   "source": [
    "<h1>Table of Contents<span class=\"tocSkip\"></span></h1>\n",
    "<div class=\"toc\"><ul class=\"toc-item\"><li><span><a href=\"#Table-of-Contents\" data-toc-modified-id=\"Table-of-Contents-1\"><span class=\"toc-item-num\">1&nbsp;&nbsp;</span>Table of Contents</a></span></li><li><span><a href=\"#Optimization-Algorithms\" data-toc-modified-id=\"Optimization-Algorithms-2\"><span class=\"toc-item-num\">2&nbsp;&nbsp;</span>Optimization Algorithms</a></span><ul class=\"toc-item\"><li><span><a href=\"#Mini-batch-gradient-descent\" data-toc-modified-id=\"Mini-batch-gradient-descent-2.1\"><span class=\"toc-item-num\">2.1&nbsp;&nbsp;</span>Mini-batch gradient descent</a></span></li><li><span><a href=\"#Understanding-mini-batch-gradient-descent\" data-toc-modified-id=\"Understanding-mini-batch-gradient-descent-2.2\"><span class=\"toc-item-num\">2.2&nbsp;&nbsp;</span>Understanding mini-batch gradient descent</a></span></li><li><span><a href=\"#Exponentially-weighted-averages\" data-toc-modified-id=\"Exponentially-weighted-averages-2.3\"><span class=\"toc-item-num\">2.3&nbsp;&nbsp;</span>Exponentially weighted averages</a></span></li><li><span><a href=\"#Understanding-exponentially-weighted-averages\" data-toc-modified-id=\"Understanding-exponentially-weighted-averages-2.4\"><span class=\"toc-item-num\">2.4&nbsp;&nbsp;</span>Understanding exponentially weighted averages</a></span></li><li><span><a href=\"#Bias-correction-in-exponentially-weighted-averages\" data-toc-modified-id=\"Bias-correction-in-exponentially-weighted-averages-2.5\"><span class=\"toc-item-num\">2.5&nbsp;&nbsp;</span>Bias correction in exponentially weighted averages</a></span></li><li><span><a href=\"#Gradient-descent-with-momentum\" data-toc-modified-id=\"Gradient-descent-with-momentum-2.6\"><span class=\"toc-item-num\">2.6&nbsp;&nbsp;</span>Gradient descent with momentum</a></span></li><li><span><a href=\"#RMSprop\" data-toc-modified-id=\"RMSprop-2.7\"><span class=\"toc-item-num\">2.7&nbsp;&nbsp;</span>RMSprop</a></span></li><li><span><a href=\"#Adam-optimization-algorithm\" data-toc-modified-id=\"Adam-optimization-algorithm-2.8\"><span class=\"toc-item-num\">2.8&nbsp;&nbsp;</span>Adam optimization algorithm</a></span></li><li><span><a href=\"#Learning-rate-decay\" data-toc-modified-id=\"Learning-rate-decay-2.9\"><span class=\"toc-item-num\">2.9&nbsp;&nbsp;</span>Learning rate decay</a></span></li><li><span><a href=\"#The-problem-of-local-optima\" data-toc-modified-id=\"The-problem-of-local-optima-2.10\"><span class=\"toc-item-num\">2.10&nbsp;&nbsp;</span>The problem of local optima</a></span></li></ul></li></ul></div>"
   ]
  },
  {
   "cell_type": "markdown",
   "metadata": {},
   "source": [
    "# Optimization Algorithms"
   ]
  },
  {
   "cell_type": "markdown",
   "metadata": {},
   "source": [
    "## Mini-batch gradient descent"
   ]
  },
  {
   "cell_type": "markdown",
   "metadata": {},
   "source": [
    "![](https://i.imgur.com/h3SqqNK.png)"
   ]
  },
  {
   "cell_type": "markdown",
   "metadata": {},
   "source": [
    "![](https://i.imgur.com/K23a5Gi.png)"
   ]
  },
  {
   "cell_type": "markdown",
   "metadata": {},
   "source": [
    "## Understanding mini-batch gradient descent"
   ]
  },
  {
   "cell_type": "markdown",
   "metadata": {},
   "source": [
    "![](https://i.imgur.com/wW3Txuu.png)"
   ]
  },
  {
   "cell_type": "markdown",
   "metadata": {},
   "source": [
    "![](https://i.imgur.com/evd9hBu.png)"
   ]
  },
  {
   "cell_type": "markdown",
   "metadata": {},
   "source": [
    "![](https://i.imgur.com/EVfcDPj.png)"
   ]
  },
  {
   "cell_type": "markdown",
   "metadata": {},
   "source": [
    "## Exponentially weighted averages"
   ]
  },
  {
   "cell_type": "markdown",
   "metadata": {
    "collapsed": true
   },
   "source": [
    "![](https://i.imgur.com/b1UZZ4Q.png)"
   ]
  },
  {
   "cell_type": "markdown",
   "metadata": {},
   "source": [
    "![](https://i.imgur.com/mqtOda0.png)"
   ]
  },
  {
   "cell_type": "markdown",
   "metadata": {},
   "source": [
    "## Understanding exponentially weighted averages"
   ]
  },
  {
   "cell_type": "markdown",
   "metadata": {},
   "source": [
    "![](https://i.imgur.com/JxgOHmA.png)"
   ]
  },
  {
   "cell_type": "markdown",
   "metadata": {},
   "source": [
    "![](https://i.imgur.com/j80bD9K.png)"
   ]
  },
  {
   "cell_type": "markdown",
   "metadata": {},
   "source": [
    "## Bias correction in exponentially weighted averages\n"
   ]
  },
  {
   "cell_type": "markdown",
   "metadata": {},
   "source": [
    "![](https://i.imgur.com/CT94Pul.png)"
   ]
  },
  {
   "cell_type": "markdown",
   "metadata": {},
   "source": [
    "## Gradient descent with momentum"
   ]
  },
  {
   "cell_type": "markdown",
   "metadata": {},
   "source": [
    "![](https://i.imgur.com/p8IPNT6.png)\n",
    "![](https://i.imgur.com/KiOMl7d.png)"
   ]
  },
  {
   "cell_type": "markdown",
   "metadata": {},
   "source": [
    "## RMSprop"
   ]
  },
  {
   "cell_type": "markdown",
   "metadata": {},
   "source": [
    "![](https://i.imgur.com/9x4WBpC.png)"
   ]
  },
  {
   "cell_type": "markdown",
   "metadata": {},
   "source": [
    "## Adam optimization algorithm"
   ]
  },
  {
   "cell_type": "markdown",
   "metadata": {},
   "source": [
    "![](https://i.imgur.com/TDk4C43.png)\n",
    "\n",
    "![](https://i.imgur.com/4NlC7mp.png)"
   ]
  },
  {
   "cell_type": "markdown",
   "metadata": {},
   "source": [
    "## Learning rate decay"
   ]
  },
  {
   "cell_type": "markdown",
   "metadata": {},
   "source": [
    "![](https://i.imgur.com/LQ0ZWwZ.png)\n",
    "![](https://i.imgur.com/YxyiEOp.png)\n",
    "![](https://i.imgur.com/09caydm.png)"
   ]
  },
  {
   "cell_type": "markdown",
   "metadata": {},
   "source": [
    "## The problem of local optima"
   ]
  },
  {
   "cell_type": "markdown",
   "metadata": {},
   "source": [
    "![](https://i.imgur.com/Lr4ADeO.png)"
   ]
  },
  {
   "cell_type": "markdown",
   "metadata": {},
   "source": [
    "![](https://i.imgur.com/gzSH2rA.png)"
   ]
  }
 ],
 "metadata": {
  "kernelspec": {
   "display_name": "Python 3",
   "language": "python",
   "name": "python3"
  },
  "language_info": {
   "codemirror_mode": {
    "name": "ipython",
    "version": 3
   },
   "file_extension": ".py",
   "mimetype": "text/x-python",
   "name": "python",
   "nbconvert_exporter": "python",
   "pygments_lexer": "ipython3",
   "version": "3.6.4"
  },
  "toc": {
   "nav_menu": {
    "height": "99px",
    "width": "252px"
   },
   "number_sections": true,
   "sideBar": true,
   "skip_h1_title": false,
   "title_cell": "Table of Contents",
   "title_sidebar": "Contents",
   "toc_cell": true,
   "toc_position": {},
   "toc_section_display": "block",
   "toc_window_display": true
  }
 },
 "nbformat": 4,
 "nbformat_minor": 2
}
