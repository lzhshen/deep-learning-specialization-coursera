{
 "cells": [
  {
   "cell_type": "markdown",
   "metadata": {
    "toc": "true"
   },
   "source": [
    "<h1>Table of Contents<span class=\"tocSkip\"></span></h1>\n",
    "<div class=\"toc\"><ul class=\"toc-item\"><li><span><a href=\"#Table-of-Contents\" data-toc-modified-id=\"Table-of-Contents-1\"><span class=\"toc-item-num\">1&nbsp;&nbsp;</span>Table of Contents</a></span></li><li><span><a href=\"#Setting-up-your-machine-Learning-Application\" data-toc-modified-id=\"Setting-up-your-machine-Learning-Application-2\"><span class=\"toc-item-num\">2&nbsp;&nbsp;</span>Setting up your machine Learning Application</a></span><ul class=\"toc-item\"><li><span><a href=\"#Train-/-Dev-/-Test-sets\" data-toc-modified-id=\"Train-/-Dev-/-Test-sets-2.1\"><span class=\"toc-item-num\">2.1&nbsp;&nbsp;</span>Train / Dev / Test sets</a></span></li><li><span><a href=\"#Bias-/-Variance\" data-toc-modified-id=\"Bias-/-Variance-2.2\"><span class=\"toc-item-num\">2.2&nbsp;&nbsp;</span>Bias / Variance</a></span></li><li><span><a href=\"#Basic-Recipe-for-Machine-Learning\" data-toc-modified-id=\"Basic-Recipe-for-Machine-Learning-2.3\"><span class=\"toc-item-num\">2.3&nbsp;&nbsp;</span>Basic Recipe for Machine Learning</a></span></li></ul></li><li><span><a href=\"#Regularizing-your-neural-network\" data-toc-modified-id=\"Regularizing-your-neural-network-3\"><span class=\"toc-item-num\">3&nbsp;&nbsp;</span>Regularizing your neural network</a></span><ul class=\"toc-item\"><li><span><a href=\"#Regularization\" data-toc-modified-id=\"Regularization-3.1\"><span class=\"toc-item-num\">3.1&nbsp;&nbsp;</span>Regularization</a></span></li><li><span><a href=\"#Why-regularization-reduces-overfitting?\" data-toc-modified-id=\"Why-regularization-reduces-overfitting?-3.2\"><span class=\"toc-item-num\">3.2&nbsp;&nbsp;</span>Why regularization reduces overfitting?</a></span></li><li><span><a href=\"#Dropout-Regularization\" data-toc-modified-id=\"Dropout-Regularization-3.3\"><span class=\"toc-item-num\">3.3&nbsp;&nbsp;</span>Dropout Regularization</a></span></li><li><span><a href=\"#Understanding-Dropout\" data-toc-modified-id=\"Understanding-Dropout-3.4\"><span class=\"toc-item-num\">3.4&nbsp;&nbsp;</span>Understanding Dropout</a></span></li><li><span><a href=\"#Other-regularization-methods\" data-toc-modified-id=\"Other-regularization-methods-3.5\"><span class=\"toc-item-num\">3.5&nbsp;&nbsp;</span>Other regularization methods</a></span></li></ul></li><li><span><a href=\"#Setting-up-your-optimization-problem\" data-toc-modified-id=\"Setting-up-your-optimization-problem-4\"><span class=\"toc-item-num\">4&nbsp;&nbsp;</span>Setting up your optimization problem</a></span><ul class=\"toc-item\"><li><span><a href=\"#Normalizing-inputs\" data-toc-modified-id=\"Normalizing-inputs-4.1\"><span class=\"toc-item-num\">4.1&nbsp;&nbsp;</span>Normalizing inputs</a></span></li><li><span><a href=\"#Vanishing-/-Exploding-gradients\" data-toc-modified-id=\"Vanishing-/-Exploding-gradients-4.2\"><span class=\"toc-item-num\">4.2&nbsp;&nbsp;</span>Vanishing / Exploding gradients</a></span></li><li><span><a href=\"#Weight-Initialization-for-Deep-Networks\" data-toc-modified-id=\"Weight-Initialization-for-Deep-Networks-4.3\"><span class=\"toc-item-num\">4.3&nbsp;&nbsp;</span>Weight Initialization for Deep Networks</a></span></li><li><span><a href=\"#Numerical-approximation-of-gradients\" data-toc-modified-id=\"Numerical-approximation-of-gradients-4.4\"><span class=\"toc-item-num\">4.4&nbsp;&nbsp;</span>Numerical approximation of gradients</a></span></li><li><span><a href=\"#Gradient-Checking\" data-toc-modified-id=\"Gradient-Checking-4.5\"><span class=\"toc-item-num\">4.5&nbsp;&nbsp;</span>Gradient Checking</a></span></li><li><span><a href=\"#Gradient-Checking-Implementation-Notes\" data-toc-modified-id=\"Gradient-Checking-Implementation-Notes-4.6\"><span class=\"toc-item-num\">4.6&nbsp;&nbsp;</span>Gradient Checking Implementation Notes</a></span></li></ul></li></ul></div>"
   ]
  },
  {
   "cell_type": "markdown",
   "metadata": {},
   "source": [
    "# Setting up your machine Learning Application"
   ]
  },
  {
   "cell_type": "markdown",
   "metadata": {},
   "source": [
    "## Train / Dev / Test sets"
   ]
  },
  {
   "cell_type": "markdown",
   "metadata": {},
   "source": [
    "![](https://i.imgur.com/zhNfPDO.png)"
   ]
  },
  {
   "cell_type": "markdown",
   "metadata": {},
   "source": [
    "![](https://i.imgur.com/M2sJUEW.png)"
   ]
  },
  {
   "cell_type": "markdown",
   "metadata": {},
   "source": [
    "![](https://i.imgur.com/3ZE2tkh.png)"
   ]
  },
  {
   "cell_type": "markdown",
   "metadata": {},
   "source": [
    "## Bias / Variance"
   ]
  },
  {
   "cell_type": "markdown",
   "metadata": {},
   "source": [
    "![](https://i.imgur.com/zUwoWUf.png)"
   ]
  },
  {
   "cell_type": "markdown",
   "metadata": {},
   "source": [
    "## Basic Recipe for Machine Learning"
   ]
  },
  {
   "cell_type": "markdown",
   "metadata": {},
   "source": [
    "![](https://i.imgur.com/9JBOjZn.png)"
   ]
  },
  {
   "cell_type": "markdown",
   "metadata": {},
   "source": [
    "# Regularizing your neural network"
   ]
  },
  {
   "cell_type": "markdown",
   "metadata": {},
   "source": [
    "## Regularization"
   ]
  },
  {
   "cell_type": "markdown",
   "metadata": {},
   "source": [
    "![](https://i.imgur.com/oQeoTQB.png)"
   ]
  },
  {
   "cell_type": "markdown",
   "metadata": {},
   "source": [
    "![](https://i.imgur.com/KBOdujA.png)"
   ]
  },
  {
   "cell_type": "markdown",
   "metadata": {},
   "source": [
    "## Why regularization reduces overfitting?"
   ]
  },
  {
   "cell_type": "markdown",
   "metadata": {},
   "source": [
    "![](https://i.imgur.com/86HoIQn.png)"
   ]
  },
  {
   "cell_type": "markdown",
   "metadata": {},
   "source": [
    "![](https://i.imgur.com/cXX9dOd.png)"
   ]
  },
  {
   "cell_type": "markdown",
   "metadata": {},
   "source": [
    "## Dropout Regularization"
   ]
  },
  {
   "cell_type": "markdown",
   "metadata": {},
   "source": [
    "![](https://i.imgur.com/dNacOCr.png)\n",
    "![](https://i.imgur.com/KD7pcKH.png)\n",
    "![](https://i.imgur.com/QuZ5UNB.png)"
   ]
  },
  {
   "cell_type": "markdown",
   "metadata": {},
   "source": [
    "## Understanding Dropout"
   ]
  },
  {
   "cell_type": "markdown",
   "metadata": {},
   "source": [
    "![](https://i.imgur.com/hW8BZwj.png)"
   ]
  },
  {
   "cell_type": "markdown",
   "metadata": {},
   "source": [
    "## Other regularization methods\n",
    "\n"
   ]
  },
  {
   "cell_type": "markdown",
   "metadata": {},
   "source": [
    "![](https://i.imgur.com/BVmNSMM.png)\n",
    "![](https://i.imgur.com/SntfgkV.png)"
   ]
  },
  {
   "cell_type": "markdown",
   "metadata": {},
   "source": [
    "# Setting up your optimization problem"
   ]
  },
  {
   "cell_type": "markdown",
   "metadata": {},
   "source": [
    "## Normalizing inputs"
   ]
  },
  {
   "cell_type": "markdown",
   "metadata": {},
   "source": [
    "![](https://i.imgur.com/a2ZdeSg.png)\n",
    "![](https://i.imgur.com/Ph78qBk.png)"
   ]
  },
  {
   "cell_type": "markdown",
   "metadata": {},
   "source": [
    "## Vanishing / Exploding gradients"
   ]
  },
  {
   "cell_type": "markdown",
   "metadata": {},
   "source": [
    "![](https://i.imgur.com/GzjU43b.png)"
   ]
  },
  {
   "cell_type": "markdown",
   "metadata": {},
   "source": [
    "## Weight Initialization for Deep Networks"
   ]
  },
  {
   "cell_type": "markdown",
   "metadata": {},
   "source": [
    "![](https://i.imgur.com/uWl9XI9.png)"
   ]
  },
  {
   "cell_type": "markdown",
   "metadata": {},
   "source": [
    "## Numerical approximation of gradients"
   ]
  },
  {
   "cell_type": "markdown",
   "metadata": {},
   "source": [
    "![](https://i.imgur.com/Z1DBfT1.png)"
   ]
  },
  {
   "cell_type": "markdown",
   "metadata": {},
   "source": [
    "## Gradient Checking"
   ]
  },
  {
   "cell_type": "markdown",
   "metadata": {},
   "source": [
    "![](https://i.imgur.com/MLWOkP2.png)\n",
    "![](https://i.imgur.com/4ndm620.png)"
   ]
  },
  {
   "cell_type": "markdown",
   "metadata": {},
   "source": [
    "## Gradient Checking Implementation Notes"
   ]
  },
  {
   "cell_type": "markdown",
   "metadata": {},
   "source": [
    "![](https://i.imgur.com/dwjrd88g.png)"
   ]
  }
 ],
 "metadata": {
  "kernelspec": {
   "display_name": "Python 3",
   "language": "python",
   "name": "python3"
  },
  "language_info": {
   "codemirror_mode": {
    "name": "ipython",
    "version": 3
   },
   "file_extension": ".py",
   "mimetype": "text/x-python",
   "name": "python",
   "nbconvert_exporter": "python",
   "pygments_lexer": "ipython3",
   "version": "3.6.4"
  },
  "toc": {
   "nav_menu": {
    "height": "333px",
    "width": "252px"
   },
   "number_sections": true,
   "sideBar": true,
   "skip_h1_title": false,
   "title_cell": "Table of Contents",
   "title_sidebar": "Contents",
   "toc_cell": true,
   "toc_position": {},
   "toc_section_display": "block",
   "toc_window_display": true
  }
 },
 "nbformat": 4,
 "nbformat_minor": 2
}
